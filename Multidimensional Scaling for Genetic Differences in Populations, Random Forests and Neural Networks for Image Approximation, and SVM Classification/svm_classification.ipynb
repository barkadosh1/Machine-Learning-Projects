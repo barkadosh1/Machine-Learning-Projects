{
 "cells": [
  {
   "cell_type": "code",
   "execution_count": 1,
   "metadata": {},
   "outputs": [],
   "source": [
    "#import necessary libraries\n",
    "import pandas as pd\n",
    "import numpy as np\n",
    "from matplotlib import pyplot as plt\n",
    "from sklearn.model_selection import train_test_split\n",
    "from sklearn.svm import SVC\n",
    "from sklearn.model_selection import cross_validate\n",
    "import warnings\n",
    "from sklearn.exceptions import ConvergenceWarning\n",
    "from scipy import stats"
   ]
  },
  {
   "cell_type": "code",
   "execution_count": 2,
   "metadata": {},
   "outputs": [],
   "source": [
    "#read the data file into a pandas dataframe\n",
    "data = pd.read_csv('OJ.txt', sep=\",\")\n",
    "\n",
    "#encode the necessary columns and remove Unnamed: 0 (unique ID that is already provided by pandas as well)\n",
    "data['Store7'] = data['Store7'].astype(\"category\").cat.codes\n",
    "data = data.drop(columns = ['Unnamed: 0'])\n",
    "\n",
    "#create the X and Y dataframes\n",
    "X = data.drop(columns = ['Purchase'])\n",
    "Y = data['Purchase']"
   ]
  },
  {
   "cell_type": "code",
   "execution_count": 3,
   "metadata": {},
   "outputs": [],
   "source": [
    "#use train_test_split to split X and Y into training and testing dataframes\n",
    "X_train, X_test, Y_train, Y_test = train_test_split(X, Y, train_size=800, random_state=42)"
   ]
  },
  {
   "cell_type": "code",
   "execution_count": 4,
   "metadata": {},
   "outputs": [
    {
     "data": {
      "text/plain": [
       "CH    494\n",
       "MM    306\n",
       "Name: Purchase, dtype: int64"
      ]
     },
     "execution_count": 4,
     "metadata": {},
     "output_type": "execute_result"
    }
   ],
   "source": [
    "#print class fractions for training set\n",
    "Y_train.value_counts()"
   ]
  },
  {
   "cell_type": "code",
   "execution_count": 5,
   "metadata": {},
   "outputs": [
    {
     "data": {
      "text/plain": [
       "CH    159\n",
       "MM    111\n",
       "Name: Purchase, dtype: int64"
      ]
     },
     "execution_count": 5,
     "metadata": {},
     "output_type": "execute_result"
    }
   ],
   "source": [
    "#print class fractions for test set\n",
    "Y_test.value_counts()"
   ]
  },
  {
   "cell_type": "code",
   "execution_count": 6,
   "metadata": {},
   "outputs": [
    {
     "data": {
      "text/plain": [
       "SVC(C=0.01, cache_size=200, class_weight=None, coef0=0.0,\n",
       "    decision_function_shape='ovr', degree=3, gamma='auto', kernel='linear',\n",
       "    max_iter=-1, probability=False, random_state=None, shrinking=True,\n",
       "    tol=0.001, verbose=False)"
      ]
     },
     "execution_count": 6,
     "metadata": {},
     "output_type": "execute_result"
    }
   ],
   "source": [
    "#test linear kernel SVC with C = 0.01 and fit it on the training data\n",
    "classifier = SVC(C = 0.01, gamma='auto', kernel = 'linear')\n",
    "classifier.fit(X_train, Y_train) "
   ]
  },
  {
   "cell_type": "code",
   "execution_count": 7,
   "metadata": {},
   "outputs": [
    {
     "name": "stdout",
     "output_type": "stream",
     "text": [
      "Column Header                 Coefficient\n",
      "\n",
      "WeekofPurchase                -0.0099\n",
      "StoreID                       -0.1276\n",
      "PriceCH                        0.0489\n",
      "PriceMM                       -0.0780\n",
      "DiscCH                         0.0036\n",
      "DiscMM                         0.1524\n",
      "SpecialCH                     -0.0628\n",
      "SpecialMM                      0.1856\n",
      "LoyalCH                       -1.0212\n",
      "SalePriceMM                   -0.2304\n",
      "SalePriceCH                    0.0454\n",
      "PriceDiff                     -0.2758\n",
      "Store7                        -0.0145\n",
      "PctDiscMM                      0.0704\n",
      "PctDiscCH                      0.0016\n",
      "ListPriceDiff                 -0.1270\n",
      "STORE                         -0.0262\n"
     ]
    }
   ],
   "source": [
    "header = \"Column Header\\tCoefficient\\n\"\n",
    "header = header.expandtabs(30)\n",
    "print(header)\n",
    "\n",
    "for i in range(X_train.columns.size):\n",
    "    string = str(X_train.columns[i])\n",
    "    string += str(\"\\t%0.4f\" % classifier.coef_[0][i])\n",
    "    \n",
    "    if classifier.coef_[0][i] < 0:\n",
    "        to_print = string.expandtabs(30)\n",
    "    else:\n",
    "        to_print = string.expandtabs(31)\n",
    "    print(to_print)"
   ]
  },
  {
   "cell_type": "code",
   "execution_count": 8,
   "metadata": {},
   "outputs": [
    {
     "name": "stdout",
     "output_type": "stream",
     "text": [
      "Linear Kernel Results\n",
      "\n",
      "Training Accuracy Score: 0.7600\n",
      "Test Accuracy Score: 0.7222\n"
     ]
    }
   ],
   "source": [
    "#predict X_test and print the Training and Test Accuracy results\n",
    "classifier.predict(X_test)\n",
    "\n",
    "print(\"Linear Kernel Results\\n\")\n",
    "print(\"Training Accuracy Score: %0.4f\" % classifier.score(X_train,Y_train))\n",
    "print(\"Test Accuracy Score: %0.4f\" % classifier.score(X_test,Y_test))"
   ]
  },
  {
   "cell_type": "code",
   "execution_count": 9,
   "metadata": {},
   "outputs": [],
   "source": [
    "#clear convergence warning where applicable\n",
    "warnings.filterwarnings(action='ignore', category=ConvergenceWarning)\n",
    "\n",
    "#create a list of 50 C values from 0.01 to 10 and a list to store the accuracy scores\n",
    "c_vals = np.linspace(0.01,10,50)\n",
    "cv_accuracy_scores = []\n",
    "\n",
    "#for each C value being tested use cross_validate for cross validation of the accuracy scores for each C\n",
    "for c_val in c_vals:\n",
    "    svm_acc_score = cross_validate(SVC(C = c_val , gamma='auto', kernel = 'linear', max_iter = 10000), X_train, Y_train, cv=10)\n",
    "    \n",
    "    cv_accuracy_scores.append(svm_acc_score['test_score'].mean())  "
   ]
  },
  {
   "cell_type": "code",
   "execution_count": 10,
   "metadata": {},
   "outputs": [
    {
     "data": {
      "image/png": "[encoded data removed]",
      "text/plain": [
       "<Figure size 432x288 with 1 Axes>"
      ]
     },
     "metadata": {
      "needs_background": "light"
     },
     "output_type": "display_data"
    }
   ],
   "source": [
    "#display the CV error plot\n",
    "plt.scatter(cv_accuracy_scores,c_vals)\n",
    "plt.title(\"Accuracy Score for Altered C values\", fontsize = 20)\n",
    "plt.show()"
   ]
  },
  {
   "cell_type": "code",
   "execution_count": 11,
   "metadata": {},
   "outputs": [],
   "source": [
    "#idetify the best C value using one-stderr rule \n",
    "#use stats.sem to find the stderr val\n",
    "#find the max accuracy score and identify the values within one stderr of that \n",
    "\n",
    "#the optimal C within one stderr of the max is the first C found within that range\n",
    "#take first, smallest C\n",
    "#\"A lower C will encourage a larger margin, therefore a simpler decision function\"\n",
    "#https://scikit-learn.org/stable/auto_examples/svm/plot_rbf_parameters.html\n",
    "\n",
    "one_std_err = stats.sem(cv_accuracy_scores)\n",
    "max_score = np.amax(cv_accuracy_scores)\n",
    "threshold_score = max_score - one_std_err\n",
    "std_err_scores = cv_accuracy_scores - one_std_err\n",
    "c_index = np.argwhere(std_err_scores>=threshold_score)[0][0]\n",
    "c_val = c_vals[c_index]"
   ]
  },
  {
   "cell_type": "code",
   "execution_count": 12,
   "metadata": {},
   "outputs": [
    {
     "data": {
      "text/plain": [
       "SVC(C=0.41775510204081634, cache_size=200, class_weight=None, coef0=0.0,\n",
       "    decision_function_shape='ovr', degree=3, gamma='auto', kernel='linear',\n",
       "    max_iter=10000, probability=False, random_state=None, shrinking=True,\n",
       "    tol=0.001, verbose=False)"
      ]
     },
     "execution_count": 12,
     "metadata": {},
     "output_type": "execute_result"
    }
   ],
   "source": [
    "#re-fit the training data with new SVC using the optimal C val found within one stderr of best C\n",
    "classifier = SVC(C = c_val, gamma='auto', kernel = 'linear', max_iter = 10000)\n",
    "classifier.fit(X_train, Y_train) "
   ]
  },
  {
   "cell_type": "code",
   "execution_count": 13,
   "metadata": {},
   "outputs": [
    {
     "name": "stdout",
     "output_type": "stream",
     "text": [
      "Linear Kernel Results With Cross-validated C\n",
      "\n",
      "Best C value from cross-validation: 0.4178\n",
      "Training Accuracy Score: 0.8363\n",
      "Test Accuracy Score: 0.8037\n"
     ]
    }
   ],
   "source": [
    "#print the Training and Test Accuracy results\n",
    "classifier.predict(X_test)\n",
    "\n",
    "print(\"Linear Kernel Results With Cross-validated C\\n\")\n",
    "print(\"Best C value from cross-validation: %0.4f\" % c_val)\n",
    "print(\"Training Accuracy Score: %0.4f\" % classifier.score(X_train,Y_train))\n",
    "print(\"Test Accuracy Score: %0.4f\" % classifier.score(X_test,Y_test))"
   ]
  },
  {
   "cell_type": "code",
   "execution_count": 14,
   "metadata": {},
   "outputs": [],
   "source": [
    "#define a function to build a grid of combinations for C values and Gamma values to test \n",
    "#based on the number of C and Gamma values passed in as parameters\n",
    "#return a reshaped list of the grid\n",
    "def build_grid(c_size, gamma_size):\n",
    "    c_vals = np.linspace(0.01,10,c_size)\n",
    "    gamma_vals = np.linspace(0.01,10,gamma_size)\n",
    "\n",
    "    c_and_gamma_vals = []\n",
    "\n",
    "    for i in range(c_size):\n",
    "        for j in range(gamma_size):\n",
    "            c_and_gamma_vals.append((c_vals[i],gamma_vals[j]))\n",
    "    \n",
    "    c_and_gamma_vals = np.array(c_and_gamma_vals)\n",
    "    c_and_gamma_vals = np.reshape(c_and_gamma_vals,(c_size,gamma_size,2))\n",
    "    \n",
    "    return c_and_gamma_vals"
   ]
  },
  {
   "cell_type": "code",
   "execution_count": 15,
   "metadata": {},
   "outputs": [],
   "source": [
    "#create a grid with c and gamma counts of 30 each and store the returned list\n",
    "c_size = 30\n",
    "gamma_size = 30\n",
    "c_gamma_grid = build_grid(c_size,gamma_size)"
   ]
  },
  {
   "cell_type": "code",
   "execution_count": 16,
   "metadata": {},
   "outputs": [],
   "source": [
    "#test using a radial kernel and use cross validation on all C value/Gamma value combinations from the grid created above\n",
    "cv_accuracy_scores_radial = []\n",
    "for x in c_gamma_grid:\n",
    "    for y in x:\n",
    "        svm_acc_score_radial = cross_validate(SVC(C = y[0] , gamma=y[1], kernel = 'rbf', max_iter = 10000), X_train, Y_train, cv=10)\n",
    "        cv_accuracy_scores_radial.append(svm_acc_score_radial['test_score'].mean())"
   ]
  },
  {
   "cell_type": "code",
   "execution_count": 17,
   "metadata": {},
   "outputs": [],
   "source": [
    "#reshape the accuracy scores list\n",
    "cv_accuracy_scores_radial = np.array(cv_accuracy_scores_radial)\n",
    "cv_accuracy_scores_radial = np.reshape(cv_accuracy_scores_radial,(c_size,gamma_size))\n",
    "\n",
    "#identify the max score in the list and its location\n",
    "max_score = np.amax(cv_accuracy_scores_radial)\n",
    "location = np.argwhere(cv_accuracy_scores_radial>=max_score)[0]\n",
    "\n",
    "#extract the c index and the gamma index from location\n",
    "c_index = location[0]\n",
    "gamma_index = location[1]\n",
    "\n",
    "#store the optimal combination of c and gamma values\n",
    "c_val = c_gamma_grid[c_index][gamma_index][0]\n",
    "gamma_val = c_gamma_grid[c_index][gamma_index][1]"
   ]
  },
  {
   "cell_type": "code",
   "execution_count": 18,
   "metadata": {},
   "outputs": [
    {
     "name": "stdout",
     "output_type": "stream",
     "text": [
      "RBF Kernel Results With Cross-validated C and Gamma\n",
      "\n",
      "Best C value from cross-validation: 9.6555\n",
      "Best Gamma value from cross-validation: 0.0100\n",
      "Training Accuracy Score: 0.8400\n",
      "Test Accuracy Score: 0.7926\n"
     ]
    }
   ],
   "source": [
    "#refit the training data with the SVC with the new found c and gamma values with a radial kernel \n",
    "classifier = SVC(C = c_val, gamma=gamma_val, kernel = 'rbf', max_iter = 10000)\n",
    "classifier.fit(X_train, Y_train) \n",
    "classifier.predict(X_test)\n",
    "\n",
    "#print C and Gamma values, as well as the Training and Test Accuracy results\n",
    "print(\"RBF Kernel Results With Cross-validated C and Gamma\\n\")\n",
    "print(\"Best C value from cross-validation: %0.4f\" % c_val)\n",
    "print(\"Best Gamma value from cross-validation: %0.4f\" % gamma_val)\n",
    "print(\"Training Accuracy Score: %0.4f\" % classifier.score(X_train,Y_train))\n",
    "print(\"Test Accuracy Score: %0.4f\" % classifier.score(X_test,Y_test))"
   ]
  },
  {
   "cell_type": "code",
   "execution_count": 19,
   "metadata": {},
   "outputs": [],
   "source": [
    "#test using a polynomial kernel and use cross validation on all C value/Gamma value combinations from the grid created above\n",
    "cv_accuracy_scores_poly = []\n",
    "for x in c_gamma_grid:\n",
    "    for y in x:\n",
    "        svm_acc_score_poly = cross_validate(SVC(C = y[0] , gamma=y[1], kernel = 'poly', max_iter = 10000), X_train, Y_train, cv=10)\n",
    "        cv_accuracy_scores_poly.append(svm_acc_score_poly['test_score'].mean())"
   ]
  },
  {
   "cell_type": "code",
   "execution_count": 20,
   "metadata": {},
   "outputs": [],
   "source": [
    "#reshape the accuracy scores list\n",
    "cv_accuracy_scores_poly = np.array(cv_accuracy_scores_poly)\n",
    "cv_accuracy_scores_poly = np.reshape(cv_accuracy_scores_poly,(c_size,gamma_size))\n",
    "\n",
    "#identify the max score in the list and its location\n",
    "max_score = np.amax(cv_accuracy_scores_poly)\n",
    "location = np.argwhere(cv_accuracy_scores_poly>=max_score)[0]\n",
    "\n",
    "#extract the c index and the gamma index from location\n",
    "c_index = location[0]\n",
    "gamma_index = location[1]\n",
    "\n",
    "#store the optimal combination of c and gamma values\n",
    "c_val = c_gamma_grid[c_index][gamma_index][0]\n",
    "gamma_val = c_gamma_grid[c_index][gamma_index][1]"
   ]
  },
  {
   "cell_type": "code",
   "execution_count": 21,
   "metadata": {},
   "outputs": [
    {
     "name": "stdout",
     "output_type": "stream",
     "text": [
      "Polynomial Kernel Results With Cross-validated C and Gamma\n",
      "\n",
      "Best C value from cross-validation: 8.6221\n",
      "Best Gamma value from cross-validation: 7.2441\n",
      "Training Accuracy Score: 0.6887\n",
      "Test Accuracy Score: 0.7000\n"
     ]
    }
   ],
   "source": [
    "#refit the training data with the SVC with the new found c and gamma values with a polynomial kernel \n",
    "classifier = SVC(C = c_val, gamma=gamma_val, kernel = 'poly', max_iter = 10000)\n",
    "classifier.fit(X_train, Y_train) \n",
    "classifier.predict(X_test)\n",
    "\n",
    "#print C and Gamma values, as well as the Training and Test Accuracy results\n",
    "print(\"Polynomial Kernel Results With Cross-validated C and Gamma\\n\")\n",
    "print(\"Best C value from cross-validation: %0.4f\" % c_val)\n",
    "print(\"Best Gamma value from cross-validation: %0.4f\" % gamma_val)\n",
    "print(\"Training Accuracy Score: %0.4f\" % classifier.score(X_train,Y_train))\n",
    "print(\"Test Accuracy Score: %0.4f\" % classifier.score(X_test,Y_test))"
   ]
  }
 ],
 "metadata": {
  "kernelspec": {
   "display_name": "Python 3",
   "language": "python",
   "name": "python3"
  },
  "language_info": {
   "codemirror_mode": {
    "name": "ipython",
    "version": 3
   },
   "file_extension": ".py",
   "mimetype": "text/x-python",
   "name": "python",
   "nbconvert_exporter": "python",
   "pygments_lexer": "ipython3",
   "version": "3.7.4"
  }
 },
 "nbformat": 4,
 "nbformat_minor": 2
}

{
 "cells": [
  {
   "cell_type": "code",
   "execution_count": 1,
   "metadata": {},
   "outputs": [],
   "source": [
    "#import libraries to support processing and analyzing the data\n",
    "import pandas as pd\n",
    "import numpy as np\n",
    "from matplotlib import pyplot as plt\n",
    "from sklearn.linear_model import LogisticRegression\n",
    "from sklearn.model_selection import train_test_split\n",
    "from sklearn import preprocessing"
   ]
  },
  {
   "cell_type": "code",
   "execution_count": 2,
   "metadata": {},
   "outputs": [],
   "source": [
    "#read the training data into a pandas dataframe\n",
    "train_data_frame = pd.read_csv('train.csv')"
   ]
  },
  {
   "cell_type": "code",
   "execution_count": 3,
   "metadata": {},
   "outputs": [],
   "source": [
    "#cleanse the dataframe by filling NaN values with the medians from each respective column\n",
    "train_data_frame = train_data_frame.fillna(train_data_frame.median())\n",
    "\n",
    "#update categorical columns to have categorical codes\n",
    "train_data_frame['Sex'] = train_data_frame['Sex'].astype(\"category\").cat.codes\n",
    "train_data_frame['Embarked'] = train_data_frame['Embarked'].astype(\"category\").cat.codes"
   ]
  },
  {
   "cell_type": "code",
   "execution_count": 4,
   "metadata": {},
   "outputs": [],
   "source": [
    "#create X and y dataframes from the training dataframe to use for the logistic regression and the survived outcome\n",
    "y_train = train_data_frame['Survived']\n",
    "X_train = train_data_frame[['Sex', 'Fare', 'SibSp', 'Age']]\n",
    "\n",
    "#call preprocessing.StandardScaler() to standardize the data\n",
    "X_train = preprocessing.StandardScaler().fit_transform(X_train)"
   ]
  },
  {
   "cell_type": "code",
   "execution_count": 5,
   "metadata": {},
   "outputs": [],
   "source": [
    "#split the training data to test different combinations of variables to use for the logistic regression\n",
    "X_train_split, X_test_split, y_train_split, y_test_split = train_test_split(X_train, y_train, test_size=0.15, random_state = 6)"
   ]
  },
  {
   "cell_type": "code",
   "execution_count": 6,
   "metadata": {},
   "outputs": [
    {
     "data": {
      "text/plain": [
       "LogisticRegression(C=1.0, class_weight=None, dual=False, fit_intercept=True,\n",
       "                   intercept_scaling=1, l1_ratio=None, max_iter=100,\n",
       "                   multi_class='warn', n_jobs=None, penalty='l2',\n",
       "                   random_state=None, solver='lbfgs', tol=0.0001, verbose=0,\n",
       "                   warm_start=False)"
      ]
     },
     "execution_count": 6,
     "metadata": {},
     "output_type": "execute_result"
    }
   ],
   "source": [
    "#use LogisticRegression to fit the training portion of the data from the training split \n",
    "logistic_regression = LogisticRegression(solver = 'lbfgs')\n",
    "logistic_regression.fit(X_train_split, y_train_split)"
   ]
  },
  {
   "cell_type": "code",
   "execution_count": 7,
   "metadata": {},
   "outputs": [],
   "source": [
    "#predict whether passengers survived or not on the test portion of the data from the training data split\n",
    "logistic_predictions_training = logistic_regression.predict(X_test_split)"
   ]
  },
  {
   "cell_type": "code",
   "execution_count": 8,
   "metadata": {},
   "outputs": [
    {
     "data": {
      "text/plain": [
       "0.8134328358208955"
      ]
     },
     "execution_count": 8,
     "metadata": {},
     "output_type": "execute_result"
    }
   ],
   "source": [
    "#score the results from the predictions of X_test_split to the correct values from y_test_split\n",
    "correct_prediction_score = logistic_regression.score(X_test_split, y_test_split)\n",
    "correct_prediction_score "
   ]
  },
  {
   "cell_type": "code",
   "execution_count": 9,
   "metadata": {},
   "outputs": [],
   "source": [
    "#read the test data into a pandas dataframe\n",
    "test_data_frame = pd.read_csv('test.csv')"
   ]
  },
  {
   "cell_type": "code",
   "execution_count": 10,
   "metadata": {},
   "outputs": [],
   "source": [
    "#repeat the same cleansing and transformation process for the testing data as was done for the training data\n",
    "test_data_frame = test_data_frame.fillna(test_data_frame.median())\n",
    "test_data_frame['Sex'] = test_data_frame['Sex'].astype(\"category\").cat.codes\n",
    "test_data_frame['Embarked'] = test_data_frame['Embarked'].astype(\"category\").cat.codes"
   ]
  },
  {
   "cell_type": "code",
   "execution_count": 11,
   "metadata": {},
   "outputs": [],
   "source": [
    "#create X dataframe from the testing dataframe with the desired variables for regression\n",
    "X_test = test_data_frame[['Sex', 'Fare', 'SibSp','Age']]\n",
    "\n",
    "#call preprocessing.StandardScaler() to standardize the data\n",
    "X_test = preprocessing.StandardScaler().fit_transform(X_test)"
   ]
  },
  {
   "cell_type": "code",
   "execution_count": 12,
   "metadata": {},
   "outputs": [],
   "source": [
    "#use logistic regression to fit the training data\n",
    "logistic_regression.fit(X_train, y_train)\n",
    "\n",
    "#predict the values for the testing data based on the regression fit from the training data\n",
    "logistic_predictions = logistic_regression.predict(X_test)"
   ]
  },
  {
   "cell_type": "code",
   "execution_count": 13,
   "metadata": {},
   "outputs": [],
   "source": [
    "#create submission template with Survived column and PasssengerId\n",
    "logistic_predictions_data_frame = pd.DataFrame(logistic_predictions, columns = ['Survived'])\n",
    "prediction_data_frame = pd.concat([test_data_frame['PassengerId'],logistic_predictions_data_frame], axis = 1)"
   ]
  },
  {
   "cell_type": "code",
   "execution_count": 14,
   "metadata": {},
   "outputs": [],
   "source": [
    "#output predictions to csv for submission\n",
    "prediction_data_frame.to_csv(\"prediction_output18.csv\", index = False)"
   ]
  }
 ],
 "metadata": {
  "kernelspec": {
   "display_name": "Python 3",
   "language": "python",
   "name": "python3"
  },
  "language_info": {
   "codemirror_mode": {
    "name": "ipython",
    "version": 3
   },
   "file_extension": ".py",
   "mimetype": "text/x-python",
   "name": "python",
   "nbconvert_exporter": "python",
   "pygments_lexer": "ipython3",
   "version": "3.7.4"
  }
 },
 "nbformat": 4,
 "nbformat_minor": 2
}

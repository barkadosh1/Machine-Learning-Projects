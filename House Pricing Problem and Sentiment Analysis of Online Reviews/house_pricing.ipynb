{
 "cells": [
  {
   "cell_type": "code",
   "execution_count": 1,
   "metadata": {},
   "outputs": [],
   "source": [
    "#import libraries to support processing and analyzing the data\n",
    "import pandas as pd\n",
    "import numpy as np\n",
    "import statsmodels.api as sm\n",
    "import math\n",
    "from matplotlib import pyplot as plt\n",
    "from sklearn.linear_model import LogisticRegression\n",
    "from sklearn.model_selection import train_test_split\n",
    "from sklearn import preprocessing\n",
    "from sklearn import metrics\n",
    "from sklearn.metrics import mean_squared_error, r2_score, mean_squared_log_error\n",
    "from sklearn.neighbors import KNeighborsClassifier\n",
    "from sklearn.model_selection import KFold, cross_val_score, cross_validate\n",
    "from sklearn import linear_model\n",
    "from sklearn.linear_model import LinearRegression\n",
    "from mlxtend.feature_selection import SequentialFeatureSelector as SFS\n",
    "from sklearn.preprocessing import PolynomialFeatures"
   ]
  },
  {
   "cell_type": "code",
   "execution_count": 2,
   "metadata": {},
   "outputs": [],
   "source": [
    "#update set option for max rows to see more data\n",
    "pd.set_option('display.max_rows', 100)"
   ]
  },
  {
   "cell_type": "code",
   "execution_count": 3,
   "metadata": {},
   "outputs": [],
   "source": [
    "#read the training,test data into a pandas dataframe\n",
    "train_data_frame = pd.read_csv('train.csv')\n",
    "test_data_frame = pd.read_csv('test.csv')"
   ]
  },
  {
   "cell_type": "code",
   "execution_count": 4,
   "metadata": {
    "collapsed": true
   },
   "outputs": [
    {
     "data": {
      "text/plain": [
       "Id                  0\n",
       "MSSubClass          0\n",
       "MSZoning            0\n",
       "LotFrontage       259\n",
       "LotArea             0\n",
       "Street              0\n",
       "Alley            1369\n",
       "LotShape            0\n",
       "LandContour         0\n",
       "Utilities           0\n",
       "LotConfig           0\n",
       "LandSlope           0\n",
       "Neighborhood        0\n",
       "Condition1          0\n",
       "Condition2          0\n",
       "BldgType            0\n",
       "HouseStyle          0\n",
       "OverallQual         0\n",
       "OverallCond         0\n",
       "YearBuilt           0\n",
       "YearRemodAdd        0\n",
       "RoofStyle           0\n",
       "RoofMatl            0\n",
       "Exterior1st         0\n",
       "Exterior2nd         0\n",
       "MasVnrType          8\n",
       "MasVnrArea          8\n",
       "ExterQual           0\n",
       "ExterCond           0\n",
       "Foundation          0\n",
       "BsmtQual           37\n",
       "BsmtCond           37\n",
       "BsmtExposure       38\n",
       "BsmtFinType1       37\n",
       "BsmtFinSF1          0\n",
       "BsmtFinType2       38\n",
       "BsmtFinSF2          0\n",
       "BsmtUnfSF           0\n",
       "TotalBsmtSF         0\n",
       "Heating             0\n",
       "HeatingQC           0\n",
       "CentralAir          0\n",
       "Electrical          1\n",
       "1stFlrSF            0\n",
       "2ndFlrSF            0\n",
       "LowQualFinSF        0\n",
       "GrLivArea           0\n",
       "BsmtFullBath        0\n",
       "BsmtHalfBath        0\n",
       "FullBath            0\n",
       "HalfBath            0\n",
       "BedroomAbvGr        0\n",
       "KitchenAbvGr        0\n",
       "KitchenQual         0\n",
       "TotRmsAbvGrd        0\n",
       "Functional          0\n",
       "Fireplaces          0\n",
       "FireplaceQu       690\n",
       "GarageType         81\n",
       "GarageYrBlt        81\n",
       "GarageFinish       81\n",
       "GarageCars          0\n",
       "GarageArea          0\n",
       "GarageQual         81\n",
       "GarageCond         81\n",
       "PavedDrive          0\n",
       "WoodDeckSF          0\n",
       "OpenPorchSF         0\n",
       "EnclosedPorch       0\n",
       "3SsnPorch           0\n",
       "ScreenPorch         0\n",
       "PoolArea            0\n",
       "PoolQC           1453\n",
       "Fence            1179\n",
       "MiscFeature      1406\n",
       "MiscVal             0\n",
       "MoSold              0\n",
       "YrSold              0\n",
       "SaleType            0\n",
       "SaleCondition       0\n",
       "SalePrice           0\n",
       "dtype: int64"
      ]
     },
     "execution_count": 4,
     "metadata": {},
     "output_type": "execute_result"
    }
   ],
   "source": [
    "#look at the training data to determine na counts for any potential features missing a lot of data\n",
    "train_data_frame.isna().sum()"
   ]
  },
  {
   "cell_type": "code",
   "execution_count": 5,
   "metadata": {},
   "outputs": [
    {
     "data": {
      "text/plain": [
       "object     43\n",
       "int64      35\n",
       "float64     3\n",
       "dtype: int64"
      ]
     },
     "execution_count": 5,
     "metadata": {},
     "output_type": "execute_result"
    }
   ],
   "source": [
    "#determine the number of int/float features and categorical features\n",
    "train_data_frame.dtypes.value_counts()"
   ]
  },
  {
   "cell_type": "code",
   "execution_count": 6,
   "metadata": {
    "scrolled": true
   },
   "outputs": [],
   "source": [
    "#drop features with large number of nans from the dataframes\n",
    "#drop Id feature from the dataframes\n",
    "train_data_frame = train_data_frame.drop(columns = [\"Alley\",\"FireplaceQu\",\"PoolQC\",\"Fence\",\"MiscFeature\",\"Id\"])\n",
    "test_data_frame = test_data_frame.drop(columns = [\"Alley\",\"FireplaceQu\",\"PoolQC\",\"Fence\",\"MiscFeature\",\"Id\"])"
   ]
  },
  {
   "cell_type": "code",
   "execution_count": 7,
   "metadata": {},
   "outputs": [],
   "source": [
    "#split the dataframes into categorical features and not, in order to encode only the categorial features\n",
    "train_ready_cols_df = train_data_frame.select_dtypes(exclude = 'object')\n",
    "train_to_cleanse_cols_df = train_data_frame.select_dtypes(include = 'object')\n",
    "test_ready_cols_df = test_data_frame.select_dtypes(exclude = 'object')\n",
    "test_to_cleanse_cols_df = test_data_frame.select_dtypes(include = 'object')"
   ]
  },
  {
   "cell_type": "code",
   "execution_count": 8,
   "metadata": {},
   "outputs": [
    {
     "data": {
      "text/plain": [
       "Index(['MSZoning', 'Street', 'LotShape', 'LandContour', 'Utilities',\n",
       "       'LotConfig', 'LandSlope', 'Neighborhood', 'Condition1', 'Condition2',\n",
       "       'BldgType', 'HouseStyle', 'RoofStyle', 'RoofMatl', 'Exterior1st',\n",
       "       'Exterior2nd', 'MasVnrType', 'ExterQual', 'ExterCond', 'Foundation',\n",
       "       'BsmtQual', 'BsmtCond', 'BsmtExposure', 'BsmtFinType1', 'BsmtFinType2',\n",
       "       'Heating', 'HeatingQC', 'CentralAir', 'Electrical', 'KitchenQual',\n",
       "       'Functional', 'GarageType', 'GarageFinish', 'GarageQual', 'GarageCond',\n",
       "       'PavedDrive', 'SaleType', 'SaleCondition'],\n",
       "      dtype='object')"
      ]
     },
     "execution_count": 8,
     "metadata": {},
     "output_type": "execute_result"
    }
   ],
   "source": [
    "### 1b. categorical features\n",
    "train_to_cleanse_cols_df.columns"
   ]
  },
  {
   "cell_type": "code",
   "execution_count": 9,
   "metadata": {},
   "outputs": [],
   "source": [
    "###CLEANSE AND ENCODE DATA"
   ]
  },
  {
   "cell_type": "code",
   "execution_count": 10,
   "metadata": {},
   "outputs": [],
   "source": [
    "#for all features in the feature dataframes, use lambda to update types to category so they can be enconded\n",
    "train_to_cleanse_cols_df = train_to_cleanse_cols_df.apply(lambda x: x.astype('category'))\n",
    "test_to_cleanse_cols_df = test_to_cleanse_cols_df.apply(lambda x: x.astype('category'))"
   ]
  },
  {
   "cell_type": "code",
   "execution_count": 11,
   "metadata": {},
   "outputs": [],
   "source": [
    "#encode the category features\n",
    "train_to_cleanse_cols_df = train_to_cleanse_cols_df.apply(lambda x: x.astype('category').cat.codes)\n",
    "test_to_cleanse_cols_df = test_to_cleanse_cols_df.apply(lambda x: x.astype('category').cat.codes)"
   ]
  },
  {
   "cell_type": "code",
   "execution_count": 12,
   "metadata": {},
   "outputs": [],
   "source": [
    "#encoding nans will result in a -1 value, so we will go back into the dataframes and replace the -1s with nans\n",
    "train_to_cleanse_cols_df = train_to_cleanse_cols_df.replace(-1,np.nan)\n",
    "test_to_cleanse_cols_df = test_to_cleanse_cols_df.replace(-1,np.nan)"
   ]
  },
  {
   "cell_type": "code",
   "execution_count": 13,
   "metadata": {},
   "outputs": [],
   "source": [
    "#for all nans in the categorically encoded features, fill them with the median values for each feature\n",
    "train_to_cleanse_cols_df = train_to_cleanse_cols_df.fillna(train_to_cleanse_cols_df.median())\n",
    "test_to_cleanse_cols_df = test_to_cleanse_cols_df.fillna(test_to_cleanse_cols_df.median())"
   ]
  },
  {
   "cell_type": "code",
   "execution_count": 14,
   "metadata": {},
   "outputs": [],
   "source": [
    "#fill nans for all numeric features with the median values for each feature\n",
    "train_ready_cols_df = train_ready_cols_df.fillna(train_ready_cols_df.median())\n",
    "test_ready_cols_df = test_ready_cols_df.fillna(test_ready_cols_df.median())"
   ]
  },
  {
   "cell_type": "code",
   "execution_count": 15,
   "metadata": {},
   "outputs": [],
   "source": [
    "#bring back the categorical and numeric feature dataframes into one cleansed data frame with concat\n",
    "cleansed_training_df = pd.concat([train_ready_cols_df,train_to_cleanse_cols_df], axis = 1)\n",
    "cleansed_test_df = pd.concat([test_ready_cols_df,test_to_cleanse_cols_df], axis = 1)"
   ]
  },
  {
   "cell_type": "code",
   "execution_count": null,
   "metadata": {},
   "outputs": [],
   "source": []
  },
  {
   "cell_type": "code",
   "execution_count": 16,
   "metadata": {},
   "outputs": [],
   "source": [
    "###CREATE X AND Y DATAFRAMES FOR PREDICTOR VARIABLES AND RESPONSE VARIABLE"
   ]
  },
  {
   "cell_type": "code",
   "execution_count": 17,
   "metadata": {},
   "outputs": [],
   "source": [
    "X = cleansed_training_df.drop(columns = ['SalePrice'])\n",
    "Y = cleansed_training_df['SalePrice']"
   ]
  },
  {
   "cell_type": "code",
   "execution_count": 18,
   "metadata": {},
   "outputs": [],
   "source": [
    "### 1c. Correlations and Scatter Matrix"
   ]
  },
  {
   "cell_type": "code",
   "execution_count": 19,
   "metadata": {
    "collapsed": true
   },
   "outputs": [
    {
     "data": {
      "text/plain": [
       "ExterQual       -0.636884\n",
       "BsmtQual        -0.594945\n",
       "KitchenQual     -0.589189\n",
       "GarageFinish    -0.482754\n",
       "HeatingQC       -0.400178\n",
       "GarageType      -0.302105\n",
       "BsmtExposure    -0.295407\n",
       "LotShape        -0.255580\n",
       "MSZoning        -0.166872\n",
       "KitchenAbvGr    -0.135907\n",
       "EnclosedPorch   -0.128578\n",
       "Heating         -0.098812\n",
       "BldgType        -0.085591\n",
       "MSSubClass      -0.084284\n",
       "OverallCond     -0.077856\n",
       "LotConfig       -0.067396\n",
       "SaleType        -0.054911\n",
       "BsmtFinType1    -0.053794\n",
       "YrSold          -0.028923\n",
       "LowQualFinSF    -0.025606\n",
       "MiscVal         -0.021190\n",
       "BsmtHalfBath    -0.016844\n",
       "Utilities       -0.014314\n",
       "BsmtFinSF2      -0.011378\n",
       "Condition2       0.007513\n",
       "LandContour      0.015453\n",
       "MasVnrType       0.018216\n",
       "BsmtFinType2     0.033235\n",
       "Street           0.041036\n",
       "3SsnPorch        0.044584\n",
       "MoSold           0.046432\n",
       "LandSlope        0.051152\n",
       "BsmtCond         0.052563\n",
       "Condition1       0.091155\n",
       "PoolArea         0.092404\n",
       "GarageQual       0.098759\n",
       "Exterior1st      0.103551\n",
       "Exterior2nd      0.103766\n",
       "ScreenPorch      0.111447\n",
       "Functional       0.115328\n",
       "ExterCond        0.117303\n",
       "RoofMatl         0.132383\n",
       "GarageCond       0.134740\n",
       "BedroomAbvGr     0.168213\n",
       "HouseStyle       0.180163\n",
       "Neighborhood     0.210851\n",
       "SaleCondition    0.213092\n",
       "BsmtUnfSF        0.214479\n",
       "RoofStyle        0.222405\n",
       "BsmtFullBath     0.227122\n",
       "PavedDrive       0.231357\n",
       "Electrical       0.234945\n",
       "CentralAir       0.251328\n",
       "LotArea          0.263843\n",
       "HalfBath         0.284108\n",
       "OpenPorchSF      0.315856\n",
       "2ndFlrSF         0.319334\n",
       "WoodDeckSF       0.324413\n",
       "LotFrontage      0.334771\n",
       "Foundation       0.382479\n",
       "BsmtFinSF1       0.386420\n",
       "GarageYrBlt      0.466754\n",
       "Fireplaces       0.466929\n",
       "MasVnrArea       0.472614\n",
       "YearRemodAdd     0.507101\n",
       "YearBuilt        0.522897\n",
       "TotRmsAbvGrd     0.533723\n",
       "FullBath         0.560664\n",
       "1stFlrSF         0.605852\n",
       "TotalBsmtSF      0.613581\n",
       "GarageArea       0.623431\n",
       "GarageCars       0.640409\n",
       "GrLivArea        0.708624\n",
       "OverallQual      0.790982\n",
       "dtype: float64"
      ]
     },
     "execution_count": 19,
     "metadata": {},
     "output_type": "execute_result"
    }
   ],
   "source": [
    "#determine the correlations between each feature and SalePrice\n",
    "correlations = X.corrwith(Y)\n",
    "correlations.sort_values()"
   ]
  },
  {
   "cell_type": "code",
   "execution_count": 20,
   "metadata": {},
   "outputs": [
    {
     "data": {
      "image/png": "[encoded data removed]",
      "text/plain": [
       "<Figure size 1080x1080 with 64 Axes>"
      ]
     },
     "metadata": {
      "needs_background": "light"
     },
     "output_type": "display_data"
    }
   ],
   "source": [
    "#create a subset of the X dataframe with features mentioned and those with high magnitude correlation\n",
    "scatter_frame = cleansed_training_df[[\"SalePrice\",\"YrSold\",\"GarageArea\",\"LotArea\",\"ExterQual\",\"BsmtQual\",\"GrLivArea\",\"OverallQual\"]]\n",
    "\n",
    "#plot the Scatter Matrix\n",
    "scatter_ret = pd.plotting.scatter_matrix(scatter_frame, figsize=(15,15))"
   ]
  },
  {
   "cell_type": "code",
   "execution_count": 21,
   "metadata": {},
   "outputs": [],
   "source": [
    "### PART 1E. TEST WITH DIFFERENT REGRESSION METHODS"
   ]
  },
  {
   "cell_type": "code",
   "execution_count": 22,
   "metadata": {},
   "outputs": [],
   "source": [
    "#split the data 80/20 for train/test split\n",
    "X_train, X_test, Y_train, Y_test = train_test_split(X, Y, test_size=0.2, random_state=42)"
   ]
  },
  {
   "cell_type": "code",
   "execution_count": 23,
   "metadata": {},
   "outputs": [],
   "source": [
    "#Kaggle is using Root Mean Squared Logarithmic Error to evaluate the model's results, however there is no RMSLE in sklearn\n",
    "#Therefore, we searched on Kaggle Forum and found an implementation of RMSLE which we borrowed below\n",
    "#link = https://www.kaggle.com/jpopham91/rmlse-vectorized\n",
    "def rmsle(y, y0):\n",
    "    assert len(y) == len(y0)\n",
    "    return np.sqrt(np.mean(np.power(np.log1p(y)-np.log1p(y0), 2)))"
   ]
  },
  {
   "cell_type": "code",
   "execution_count": null,
   "metadata": {},
   "outputs": [],
   "source": []
  },
  {
   "cell_type": "code",
   "execution_count": 24,
   "metadata": {},
   "outputs": [],
   "source": [
    "###OLS"
   ]
  },
  {
   "cell_type": "code",
   "execution_count": 25,
   "metadata": {},
   "outputs": [],
   "source": [
    "ols_model = sm.OLS(Y_train,X_train)\n",
    "ols_model_fit = ols_model.fit()\n",
    "Y_pred = ols_model_fit.predict(X_test)"
   ]
  },
  {
   "cell_type": "code",
   "execution_count": 26,
   "metadata": {},
   "outputs": [
    {
     "name": "stdout",
     "output_type": "stream",
     "text": [
      "OLS Results:\n",
      "\tMean Squared Error = 1172057117.980\n",
      "\tMean Squared Log Error = 0.037\n",
      "\tRoot Mean Squared Error = 34235.320\n",
      "\tR-squared = 0.847\n",
      "\tRMSLE = 0.191\n"
     ]
    }
   ],
   "source": [
    "print(\"OLS Results:\")\n",
    "print(\"\\tMean Squared Error = %0.3f\" % (mean_squared_error(Y_test, Y_pred)))\n",
    "print(\"\\tMean Squared Log Error = %0.3f\" % (mean_squared_log_error(Y_test, Y_pred)))\n",
    "print(\"\\tRoot Mean Squared Error = %0.3f\" % (math.sqrt(mean_squared_error(Y_test, Y_pred))))\n",
    "print(\"\\tR-squared = %0.3f\" % (r2_score(Y_test, Y_pred)))\n",
    "print(\"\\tRMSLE = %0.3f\" % (rmsle(Y_test, Y_pred)))"
   ]
  },
  {
   "cell_type": "code",
   "execution_count": null,
   "metadata": {},
   "outputs": [],
   "source": []
  },
  {
   "cell_type": "code",
   "execution_count": 27,
   "metadata": {},
   "outputs": [],
   "source": [
    "###KNN"
   ]
  },
  {
   "cell_type": "code",
   "execution_count": 28,
   "metadata": {},
   "outputs": [],
   "source": [
    "#create an array to store the average mean_square_error for each k tested with cv = 10\n",
    "mean_squared_error_array = []\n",
    "kf = KFold(n_splits=10)"
   ]
  },
  {
   "cell_type": "code",
   "execution_count": 29,
   "metadata": {},
   "outputs": [],
   "source": [
    "#test different k's from 1 - 100 with cv=10 and append the average scores for each k to mean_squared_error_array\n",
    "for i in range(1,100):\n",
    "    knn = KNeighborsClassifier(n_neighbors=i)\n",
    "    scores = cross_val_score(knn, X_train, Y_train, cv=kf, scoring='neg_mean_squared_error')\n",
    "    mean_squared_error_array.append(scores.mean())  "
   ]
  },
  {
   "cell_type": "code",
   "execution_count": 30,
   "metadata": {},
   "outputs": [],
   "source": [
    "#convert the list to a numpy array, and then find the argmax of the neg_mean_squared_errors to find the optimal k\n",
    "mean_squared_error_np = np.array(mean_squared_error_array)\n",
    "optimal_k_index = np.argmax(mean_squared_error_np)\n",
    "optimal_k_val = optimal_k_index+1"
   ]
  },
  {
   "cell_type": "code",
   "execution_count": 31,
   "metadata": {},
   "outputs": [],
   "source": [
    "#once we find the optimal k, train the knn classifier with optimal k, and predict SalePrice for X_test\n",
    "knn_train = KNeighborsClassifier(n_neighbors=optimal_k_val)\n",
    "knn_train.fit(X_train,Y_train)\n",
    "Y_pred_knn = knn_train.predict(X_test)"
   ]
  },
  {
   "cell_type": "code",
   "execution_count": 32,
   "metadata": {},
   "outputs": [
    {
     "name": "stdout",
     "output_type": "stream",
     "text": [
      "KNN Results:\n",
      "\tMean Squared Error = 3615886071.808\n",
      "\tMean Squared Log Error = 0.082\n",
      "\tRoot Mean Squared Error = 60132.238\n",
      "\tR-squared = 0.529\n",
      "\tRMSLE = 0.287\n"
     ]
    }
   ],
   "source": [
    "#print results\n",
    "print(\"KNN Results:\")\n",
    "print(\"\\tMean Squared Error = %0.3f\" % (mean_squared_error(Y_test, Y_pred_knn)))\n",
    "print(\"\\tMean Squared Log Error = %0.3f\" % (mean_squared_log_error(Y_test, Y_pred_knn)))\n",
    "print(\"\\tRoot Mean Squared Error = %0.3f\" % (math.sqrt(mean_squared_error(Y_test, Y_pred_knn))))\n",
    "print(\"\\tR-squared = %0.3f\" % (r2_score(Y_test, Y_pred_knn)))\n",
    "print(\"\\tRMSLE = %0.3f\" % (rmsle(Y_test, Y_pred_knn)))"
   ]
  },
  {
   "cell_type": "code",
   "execution_count": null,
   "metadata": {},
   "outputs": [],
   "source": []
  },
  {
   "cell_type": "code",
   "execution_count": 33,
   "metadata": {},
   "outputs": [],
   "source": [
    "###FORWARD STEPWISE"
   ]
  },
  {
   "cell_type": "code",
   "execution_count": null,
   "metadata": {},
   "outputs": [],
   "source": [
    "#create a linear regression object\n",
    "linear_regression = LinearRegression()\n",
    "\n",
    "#call the SequentialFeatureSelector for forward stepwise, provide a min and max # of features from 1 to all and fit the model\n",
    "forward_stepwise = SFS(linear_regression, k_features=(1,X_train.shape[1]), forward=True, floating=False, \n",
    "           verbose=2,scoring='neg_mean_squared_error',cv=10)\n",
    "forward_stepwise = forward_stepwise.fit(X_train, Y_train, custom_feature_names =X_train.columns)"
   ]
  },
  {
   "cell_type": "code",
   "execution_count": 35,
   "metadata": {},
   "outputs": [],
   "source": [
    "#once the SFS model has determined which features to keep, transform X_train and test to only include those features \n",
    "X_train_forward_stepwise = forward_stepwise.transform(X_train)\n",
    "X_test_forward_stepwise = forward_stepwise.transform(X_test)\n",
    "\n",
    "#use linear regression to fit the new feature set and predict SalePrice\n",
    "linear_regression.fit(X_train_forward_stepwise, Y_train)\n",
    "Y_pred_forward_stepwise = linear_regression.predict(X_test_forward_stepwise)"
   ]
  },
  {
   "cell_type": "code",
   "execution_count": 36,
   "metadata": {},
   "outputs": [
    {
     "name": "stdout",
     "output_type": "stream",
     "text": [
      "Forward Stepwise Results:\n",
      "\tMean Squared Error = 1255421003.432\n",
      "\tMean Squared Log Error = 0.035\n",
      "\tRoot Mean Squared Error = 35431.921\n",
      "\tR-squared = 0.836\n",
      "\tRMSLE = 0.186\n"
     ]
    }
   ],
   "source": [
    "#print results\n",
    "print(\"Forward Stepwise Results:\")\n",
    "print(\"\\tMean Squared Error = %0.3f\" % (mean_squared_error(Y_test, Y_pred_forward_stepwise)))\n",
    "print(\"\\tMean Squared Log Error = %0.3f\" % (mean_squared_log_error(Y_test, Y_pred_forward_stepwise)))\n",
    "print(\"\\tRoot Mean Squared Error = %0.3f\" % (math.sqrt(mean_squared_error(Y_test, Y_pred_forward_stepwise))))\n",
    "print(\"\\tR-squared = %0.3f\" % (r2_score(Y_test, Y_pred_forward_stepwise)))\n",
    "print(\"\\tRMSLE = %0.3f\" % (rmsle(Y_test, Y_pred_forward_stepwise)))"
   ]
  },
  {
   "cell_type": "code",
   "execution_count": null,
   "metadata": {},
   "outputs": [],
   "source": []
  },
  {
   "cell_type": "code",
   "execution_count": 37,
   "metadata": {},
   "outputs": [],
   "source": [
    "###BACKWARD STEPWISE"
   ]
  },
  {
   "cell_type": "code",
   "execution_count": null,
   "metadata": {},
   "outputs": [],
   "source": [
    "#call the SequentialFeatureSelector for backward stepwise, provide a min and max # of features from 1 to all and fit the model\n",
    "backward_stepwise = SFS(linear_regression, k_features=(1,X_train.shape[1]), forward=False, floating=False, \n",
    "           verbose=2,scoring='neg_mean_squared_error',cv=10)\n",
    "backward_stepwise = backward_stepwise.fit(X_train, Y_train, custom_feature_names =X_train.columns)\n",
    "\n",
    "#once the SFS model has determined which features to keep, transform X_train and test to only include those features \n",
    "X_train_backward_stepwise = backward_stepwise.transform(X_train)\n",
    "X_test_backward_stepwise = backward_stepwise.transform(X_test)\n",
    "\n",
    "#use linear regression to fit the new feature set and predict SalePrice\n",
    "linear_regression.fit(X_train_backward_stepwise, Y_train)\n",
    "Y_pred_backward_stepwise = linear_regression.predict(X_test_backward_stepwise)"
   ]
  },
  {
   "cell_type": "code",
   "execution_count": 39,
   "metadata": {},
   "outputs": [
    {
     "name": "stdout",
     "output_type": "stream",
     "text": [
      "Backward Stepwise Results:\n",
      "\tMean Squared Error = 1309532376.508\n",
      "\tMean Squared Log Error = 0.039\n",
      "\tRoot Mean Squared Error = 36187.462\n",
      "\tR-squared = 0.829\n",
      "\tRMSLE = 0.198\n"
     ]
    }
   ],
   "source": [
    "#print results\n",
    "print(\"Backward Stepwise Results:\")\n",
    "print(\"\\tMean Squared Error = %0.3f\" % (mean_squared_error(Y_test, Y_pred_backward_stepwise)))\n",
    "print(\"\\tMean Squared Log Error = %0.3f\" % (mean_squared_log_error(Y_test, Y_pred_backward_stepwise)))\n",
    "print(\"\\tRoot Mean Squared Error = %0.3f\" % (math.sqrt(mean_squared_error(Y_test, Y_pred_backward_stepwise))))\n",
    "print(\"\\tR-squared = %0.3f\" % (r2_score(Y_test, Y_pred_backward_stepwise)))\n",
    "print(\"\\tRMSLE = %0.3f\" % (rmsle(Y_test, Y_pred_backward_stepwise)))"
   ]
  },
  {
   "cell_type": "code",
   "execution_count": null,
   "metadata": {},
   "outputs": [],
   "source": []
  },
  {
   "cell_type": "code",
   "execution_count": 40,
   "metadata": {},
   "outputs": [],
   "source": [
    "#as the assignment instructions note, we need to standardize our data first and we do so using preprocessing.StandardScaler\n",
    "X_train_scaled = preprocessing.StandardScaler().fit_transform(X_train)\n",
    "X_train_scaled_df = pd.DataFrame(X_train_scaled, columns = X_train.columns)\n",
    "X_test_scaled = preprocessing.StandardScaler().fit_transform(X_test)\n",
    "X_test_scaled_df = pd.DataFrame(X_test_scaled, columns = X_test.columns)"
   ]
  },
  {
   "cell_type": "code",
   "execution_count": 41,
   "metadata": {},
   "outputs": [],
   "source": [
    "###RIDGE"
   ]
  },
  {
   "cell_type": "code",
   "execution_count": 42,
   "metadata": {},
   "outputs": [],
   "source": [
    "alphas = 10**np.linspace(3,-4,200)\n",
    "ridge_mse_array = []\n",
    "\n",
    "\n",
    "for i in alphas:\n",
    "    ridge_scores = cross_validate(linear_model.Ridge(alpha = i, max_iter = 10000), \n",
    "                                  X_train_scaled_df, Y_train, cv=10,scoring=('neg_mean_squared_error'))\n",
    "    \n",
    "    ridge_mse_array.append(ridge_scores['test_score'].mean())"
   ]
  },
  {
   "cell_type": "code",
   "execution_count": 43,
   "metadata": {},
   "outputs": [],
   "source": [
    "ridge_mse_np = np.array(ridge_mse_array)\n",
    "ridge_optimal_a_index = np.argmax(ridge_mse_np)\n",
    "ridge_optimal_a_val = ridge_mse_np[ridge_optimal_a_index]\n",
    "optimal_ridge_alpha = alphas[ridge_optimal_a_index]"
   ]
  },
  {
   "cell_type": "code",
   "execution_count": 44,
   "metadata": {},
   "outputs": [],
   "source": [
    "ridge_train = linear_model.Ridge(alpha = optimal_ridge_alpha, max_iter = 100000)\n",
    "ridge_train.fit(X_train_scaled_df,Y_train)\n",
    "Y_pred_ridge = ridge_train.predict(X_test_scaled_df)"
   ]
  },
  {
   "cell_type": "code",
   "execution_count": 45,
   "metadata": {},
   "outputs": [
    {
     "name": "stdout",
     "output_type": "stream",
     "text": [
      "Ridge Results:\n",
      "\tMean Squared Error = 1228755525.821\n",
      "\tMean Squared Log Error = 0.027\n",
      "\tRoot Mean Squared Error = 35053.609\n",
      "\tR-squared = 0.840\n",
      "\tRMSLE = 0.164\n"
     ]
    }
   ],
   "source": [
    "#print results\n",
    "print(\"Ridge Results:\")\n",
    "print(\"\\tMean Squared Error = %0.3f\" % (mean_squared_error(Y_test, Y_pred_ridge)))\n",
    "print(\"\\tMean Squared Log Error = %0.3f\" % (mean_squared_log_error(Y_test, Y_pred_ridge)))\n",
    "print(\"\\tRoot Mean Squared Error = %0.3f\" % (math.sqrt(mean_squared_error(Y_test, Y_pred_ridge))))\n",
    "print(\"\\tR-squared = %0.3f\" % (r2_score(Y_test, Y_pred_ridge)))\n",
    "print(\"\\tRMSLE = %0.3f\" % (rmsle(Y_test, Y_pred_ridge)))"
   ]
  },
  {
   "cell_type": "code",
   "execution_count": null,
   "metadata": {},
   "outputs": [],
   "source": []
  },
  {
   "cell_type": "code",
   "execution_count": 46,
   "metadata": {},
   "outputs": [],
   "source": [
    "###LASSO"
   ]
  },
  {
   "cell_type": "code",
   "execution_count": 47,
   "metadata": {},
   "outputs": [],
   "source": [
    "lasso_mse_array = []\n",
    "\n",
    "\n",
    "for i in alphas:\n",
    "    lasso_scores = cross_validate(linear_model.Lasso(alpha = i, max_iter = 100000), \n",
    "                                  X_train_scaled_df, Y_train, cv=10,scoring=('neg_mean_squared_error'))\n",
    "    \n",
    "    lasso_mse_array.append(lasso_scores['test_score'].mean())"
   ]
  },
  {
   "cell_type": "code",
   "execution_count": 48,
   "metadata": {},
   "outputs": [],
   "source": [
    "lasso_mse_np = np.array(lasso_mse_array)\n",
    "lasso_optimal_a_index = np.argmax(lasso_mse_np)\n",
    "lasso_optimal_a_val = lasso_mse_np[lasso_optimal_a_index]\n",
    "optimal_lasso_alpha = alphas[lasso_optimal_a_index]"
   ]
  },
  {
   "cell_type": "code",
   "execution_count": 49,
   "metadata": {},
   "outputs": [],
   "source": [
    "lasso_train = linear_model.Lasso(alpha = optimal_lasso_alpha, max_iter = 100000)\n",
    "lasso_train.fit(X_train_scaled_df,Y_train)\n",
    "Y_pred_lasso = lasso_train.predict(X_test_scaled_df)"
   ]
  },
  {
   "cell_type": "code",
   "execution_count": 50,
   "metadata": {},
   "outputs": [
    {
     "name": "stdout",
     "output_type": "stream",
     "text": [
      "Lasso Results:\n",
      "\tMean Squared Error = 1207618339.764\n",
      "\tMean Squared Log Error = 0.030\n",
      "\tRoot Mean Squared Error = 34750.803\n",
      "\tR-squared = 0.843\n",
      "\tRMSLE = 0.172\n"
     ]
    }
   ],
   "source": [
    "#print results\n",
    "print(\"Lasso Results:\")\n",
    "print(\"\\tMean Squared Error = %0.3f\" % (mean_squared_error(Y_test, Y_pred_lasso)))\n",
    "print(\"\\tMean Squared Log Error = %0.3f\" % (mean_squared_log_error(Y_test, Y_pred_lasso)))\n",
    "print(\"\\tRoot Mean Squared Error = %0.3f\" % (math.sqrt(mean_squared_error(Y_test, Y_pred_lasso))))\n",
    "print(\"\\tR-squared = %0.3f\" % (r2_score(Y_test, Y_pred_lasso)))\n",
    "print(\"\\tRMSLE = %0.3f\" % (rmsle(Y_test, Y_pred_lasso)))"
   ]
  },
  {
   "cell_type": "code",
   "execution_count": null,
   "metadata": {},
   "outputs": [],
   "source": []
  },
  {
   "cell_type": "code",
   "execution_count": 51,
   "metadata": {},
   "outputs": [],
   "source": [
    "###1F. Quadratic Features"
   ]
  },
  {
   "cell_type": "code",
   "execution_count": 52,
   "metadata": {},
   "outputs": [],
   "source": [
    "#use polynomial features to add quadratic features to the data\n",
    "quadratic_features = PolynomialFeatures(2)\n",
    "X_train_quadratic = quadratic_features.fit_transform(X_train)\n",
    "X_test_quadratic = quadratic_features.fit_transform(X_test)\n",
    "\n",
    "X_train_scaled_quadratic = quadratic_features.fit_transform(X_train_scaled_df)\n",
    "X_test_scaled_quadratic = quadratic_features.fit_transform(X_test_scaled_df)"
   ]
  },
  {
   "cell_type": "code",
   "execution_count": 53,
   "metadata": {},
   "outputs": [],
   "source": [
    "#create an array to store the average MSE for each k tested using cv = 10 folds\n",
    "knn_quadratic_features_mse_array = []\n",
    "kf = KFold(n_splits=10)"
   ]
  },
  {
   "cell_type": "code",
   "execution_count": 54,
   "metadata": {},
   "outputs": [],
   "source": [
    "#test with k nearest neighbors from 1 to 50 to find optimal k\n",
    "for i in range(1,50):\n",
    "    knn = KNeighborsClassifier(n_neighbors=i)\n",
    "    scores = cross_val_score(knn, X_train_quadratic, Y_train, cv=kf, scoring='neg_mean_squared_error')\n",
    "    knn_quadratic_features_mse_array.append(scores.mean())"
   ]
  },
  {
   "cell_type": "code",
   "execution_count": 55,
   "metadata": {},
   "outputs": [],
   "source": [
    "#find the optimal k, and then run knn with that k and fit the data. Then predict values using X_test_quadratic\n",
    "knn_mse_quadratic_np = np.array(knn_quadratic_features_mse_array)\n",
    "quadratic_optimal_k_index = np.argmax(knn_mse_quadratic_np)\n",
    "quadratic_optimal_k_val = quadratic_optimal_k_index+1\n",
    "\n",
    "knn_train_quadratic = KNeighborsClassifier(n_neighbors=quadratic_optimal_k_val)\n",
    "knn_train_quadratic.fit(X_train_quadratic,Y_train)\n",
    "Y_pred_knn_quadratic = knn_train_quadratic.predict(X_test_quadratic)"
   ]
  },
  {
   "cell_type": "code",
   "execution_count": 56,
   "metadata": {},
   "outputs": [
    {
     "name": "stdout",
     "output_type": "stream",
     "text": [
      "KNN Quadratic Results:\n",
      "\tMean Squared Error = 2901376149.062\n",
      "\tMean Squared Log Error = 0.071\n",
      "\tRoot Mean Squared Error = 53864.424\n",
      "\tR-squared = 0.622\n",
      "\tRMSLE = 0.266\n"
     ]
    }
   ],
   "source": [
    "#print results\n",
    "print(\"KNN Quadratic Results:\")\n",
    "print(\"\\tMean Squared Error = %0.3f\" % (mean_squared_error(Y_test, Y_pred_knn_quadratic)))\n",
    "print(\"\\tMean Squared Log Error = %0.3f\" % (mean_squared_log_error(Y_test, Y_pred_knn_quadratic)))\n",
    "print(\"\\tRoot Mean Squared Error = %0.3f\" % (math.sqrt(mean_squared_error(Y_test, Y_pred_knn_quadratic))))\n",
    "print(\"\\tR-squared = %0.3f\" % (r2_score(Y_test, Y_pred_knn_quadratic)))\n",
    "print(\"\\tRMSLE = %0.3f\" % (rmsle(Y_test, Y_pred_knn_quadratic)))"
   ]
  },
  {
   "cell_type": "code",
   "execution_count": null,
   "metadata": {},
   "outputs": [],
   "source": []
  },
  {
   "cell_type": "code",
   "execution_count": 57,
   "metadata": {},
   "outputs": [],
   "source": [
    "###RIDGE"
   ]
  },
  {
   "cell_type": "code",
   "execution_count": 58,
   "metadata": {},
   "outputs": [],
   "source": [
    "alphas = 10**np.linspace(3,-4,30)"
   ]
  },
  {
   "cell_type": "code",
   "execution_count": 59,
   "metadata": {},
   "outputs": [],
   "source": [
    "#create an array to store the mean MSE for each alpha tested \n",
    "ridge_quadratic_mse_array = []\n",
    "\n",
    "\n",
    "for i in alphas:\n",
    "    ridge_quadratic_scores = cross_validate(linear_model.Ridge(alpha = i, max_iter = 10000, tol = .01), \n",
    "                                  X_train_scaled_quadratic, Y_train, cv=10,scoring=('neg_mean_squared_error'))\n",
    "    \n",
    "    ridge_quadratic_mse_array.append(ridge_quadratic_scores['test_score'].mean())  "
   ]
  },
  {
   "cell_type": "code",
   "execution_count": 60,
   "metadata": {},
   "outputs": [],
   "source": [
    "#find the optimal alpha\n",
    "ridge_quadratic_mse_np = np.array(ridge_quadratic_mse_array)\n",
    "ridge_quadratic_optimal_a_index = np.argmax(ridge_quadratic_mse_np)\n",
    "ridge_quadratic_optimal_a_val = ridge_quadratic_mse_np[ridge_quadratic_optimal_a_index]\n",
    "optimal_quadratic_ridge_alpha = alphas[ridge_quadratic_optimal_a_index]"
   ]
  },
  {
   "cell_type": "code",
   "execution_count": 61,
   "metadata": {},
   "outputs": [],
   "source": [
    "#fit the data with the optimal alpha, and predict X\n",
    "ridge_quadratic_train = linear_model.Ridge(alpha = optimal_quadratic_ridge_alpha, max_iter = 10000, tol = .01)\n",
    "ridge_quadratic_train.fit(X_train_scaled_quadratic,Y_train)\n",
    "Y_pred_ridge_quadratic = ridge_quadratic_train.predict(X_test_scaled_quadratic)"
   ]
  },
  {
   "cell_type": "code",
   "execution_count": 62,
   "metadata": {},
   "outputs": [
    {
     "name": "stdout",
     "output_type": "stream",
     "text": [
      "Ridge Quadratic Results:\n",
      "\tMean Squared Error = 1077707336.575\n",
      "\tMean Squared Log Error = 0.049\n",
      "\tRoot Mean Squared Error = 32828.453\n",
      "\tR-squared = 0.859\n",
      "\tRMSLE = 0.221\n"
     ]
    }
   ],
   "source": [
    "#print results\n",
    "print(\"Ridge Quadratic Results:\")\n",
    "print(\"\\tMean Squared Error = %0.3f\" % (mean_squared_error(Y_test, Y_pred_ridge_quadratic)))\n",
    "print(\"\\tMean Squared Log Error = %0.3f\" % (mean_squared_log_error(Y_test, Y_pred_ridge_quadratic)))\n",
    "print(\"\\tRoot Mean Squared Error = %0.3f\" % (math.sqrt(mean_squared_error(Y_test, Y_pred_ridge_quadratic))))\n",
    "print(\"\\tR-squared = %0.3f\" % (r2_score(Y_test, Y_pred_ridge_quadratic)))\n",
    "print(\"\\tRMSLE = %0.3f\" % (rmsle(Y_test, Y_pred_ridge_quadratic)))"
   ]
  },
  {
   "cell_type": "code",
   "execution_count": 63,
   "metadata": {},
   "outputs": [],
   "source": [
    "###LASSO"
   ]
  },
  {
   "cell_type": "code",
   "execution_count": null,
   "metadata": {},
   "outputs": [],
   "source": []
  },
  {
   "cell_type": "code",
   "execution_count": 64,
   "metadata": {},
   "outputs": [],
   "source": [
    "#create an array to store the mean MSE for each alpha tested \n",
    "lasso_quadratic_mse_array = []\n",
    "\n",
    "\n",
    "for i in alphas:\n",
    "    lasso_quadratic_scores = cross_validate(linear_model.Lasso(alpha = i, max_iter = 10000, tol = .01), \n",
    "                                  X_train_scaled_quadratic, Y_train, cv=10,scoring=('neg_mean_squared_error'))\n",
    "    \n",
    "    lasso_quadratic_mse_array.append(lasso_quadratic_scores['test_score'].mean())"
   ]
  },
  {
   "cell_type": "code",
   "execution_count": 65,
   "metadata": {},
   "outputs": [],
   "source": [
    "#find the optimal alpha\n",
    "lasso_quadratic_mse_np = np.array(lasso_quadratic_mse_array)\n",
    "lasso_quadratic_optimal_a_index = np.argmax(lasso_quadratic_mse_np)\n",
    "lasso_quadratic_optimal_a_val = lasso_quadratic_mse_np[lasso_quadratic_optimal_a_index]\n",
    "optimal_quadratic_lasso_alpha = alphas[lasso_quadratic_optimal_a_index]"
   ]
  },
  {
   "cell_type": "code",
   "execution_count": 66,
   "metadata": {},
   "outputs": [],
   "source": [
    "#fit the data with the optimal alpha, and predict X\n",
    "lasso_quadratic_train = linear_model.Lasso(alpha = optimal_quadratic_lasso_alpha, max_iter = 10000, tol = .01)\n",
    "lasso_quadratic_train.fit(X_train_scaled_quadratic,Y_train)\n",
    "Y_pred_lasso_quadratic = lasso_quadratic_train.predict(X_test_scaled_quadratic)"
   ]
  },
  {
   "cell_type": "code",
   "execution_count": 67,
   "metadata": {},
   "outputs": [
    {
     "name": "stdout",
     "output_type": "stream",
     "text": [
      "Lasso Quadratic Results:\n",
      "\tMean Squared Error = 830155522.467\n",
      "\tMean Squared Log Error = 0.052\n",
      "\tRoot Mean Squared Error = 28812.420\n",
      "\tR-squared = 0.892\n",
      "\tRMSLE = 0.228\n"
     ]
    }
   ],
   "source": [
    "#print results\n",
    "print(\"Lasso Quadratic Results:\")\n",
    "print(\"\\tMean Squared Error = %0.3f\" % (mean_squared_error(Y_test, Y_pred_lasso_quadratic)))\n",
    "print(\"\\tMean Squared Log Error = %0.3f\" % (mean_squared_log_error(Y_test, Y_pred_lasso_quadratic)))\n",
    "print(\"\\tRoot Mean Squared Error = %0.3f\" % (math.sqrt(mean_squared_error(Y_test, Y_pred_lasso_quadratic))))\n",
    "print(\"\\tR-squared = %0.3f\" % (r2_score(Y_test, Y_pred_lasso_quadratic)))\n",
    "print(\"\\tRMSLE = %0.3f\" % (rmsle(Y_test, Y_pred_lasso_quadratic)))"
   ]
  },
  {
   "cell_type": "code",
   "execution_count": null,
   "metadata": {},
   "outputs": [],
   "source": []
  },
  {
   "cell_type": "code",
   "execution_count": 68,
   "metadata": {},
   "outputs": [],
   "source": [
    "### 1G"
   ]
  },
  {
   "cell_type": "code",
   "execution_count": 69,
   "metadata": {},
   "outputs": [
    {
     "name": "stdout",
     "output_type": "stream",
     "text": [
      "Retained features for forward stepwise: \n",
      "\n",
      "('MSSubClass', 'LotFrontage', 'LotArea', 'OverallQual', 'OverallCond', 'YearBuilt', 'MasVnrArea', 'GrLivArea', 'BsmtFullBath', 'Fireplaces', 'GarageCars', 'WoodDeckSF', '3SsnPorch', 'ScreenPorch', 'LandSlope', 'Neighborhood', 'RoofStyle', 'Exterior1st', 'MasVnrType', 'ExterQual', 'BsmtQual', 'BsmtCond', 'BsmtExposure', 'BsmtFinType1', 'CentralAir', 'KitchenQual', 'Functional', 'GarageType', 'GarageFinish', 'PavedDrive')\n"
     ]
    }
   ],
   "source": [
    "#print the retained features for forward stepwise\n",
    "print('Retained features for forward stepwise: \\n')\n",
    "print(forward_stepwise.k_feature_names_)"
   ]
  },
  {
   "cell_type": "code",
   "execution_count": 71,
   "metadata": {},
   "outputs": [
    {
     "name": "stdout",
     "output_type": "stream",
     "text": [
      "Retained features for backward stepwise: \n",
      "\n",
      "('MSSubClass', 'LotFrontage', 'OverallQual', 'OverallCond', 'MasVnrArea', 'GrLivArea', 'BsmtFullBath', 'Fireplaces', 'GarageCars', '3SsnPorch', 'LotShape', 'LandContour', 'LandSlope', 'Neighborhood', 'RoofStyle', 'MasVnrType', 'ExterQual', 'BsmtQual', 'BsmtCond', 'BsmtExposure', 'KitchenQual', 'Functional', 'GarageType', 'GarageFinish', 'PavedDrive')\n"
     ]
    }
   ],
   "source": [
    "#print the retained features for forward stepwise\n",
    "print('Retained features for backward stepwise: \\n')\n",
    "print(backward_stepwise.k_feature_names_)"
   ]
  },
  {
   "cell_type": "code",
   "execution_count": 72,
   "metadata": {},
   "outputs": [],
   "source": [
    "#create two arrays for which coefficients are retained and regularized away for lasso based on coef_\n",
    "#regularized away are those that equal 0\n",
    "lasso_retained = []\n",
    "lasso_regularized_away = []\n",
    "\n",
    "for i in range(len(lasso_train.coef_)):\n",
    "    if lasso_train.coef_[i] == 0:\n",
    "        lasso_regularized_away.append(X.columns[i])\n",
    "    else:\n",
    "        lasso_retained.append(X.columns[i])"
   ]
  },
  {
   "cell_type": "code",
   "execution_count": 74,
   "metadata": {
    "scrolled": true
   },
   "outputs": [
    {
     "name": "stdout",
     "output_type": "stream",
     "text": [
      "Lasso retained features:\n",
      "\n",
      "['MSSubClass', 'LotFrontage', 'LotArea', 'OverallQual', 'OverallCond', 'YearBuilt', 'YearRemodAdd', 'MasVnrArea', 'BsmtFinSF1', 'TotalBsmtSF', '1stFlrSF', 'GrLivArea', 'BsmtFullBath', 'FullBath', 'KitchenAbvGr', 'TotRmsAbvGrd', 'Fireplaces', 'GarageCars', 'WoodDeckSF', '3SsnPorch', 'ScreenPorch', 'MSZoning', 'LotShape', 'LandContour', 'Utilities', 'LandSlope', 'Neighborhood', 'Condition2', 'BldgType', 'RoofStyle', 'RoofMatl', 'Exterior1st', 'MasVnrType', 'ExterQual', 'BsmtQual', 'BsmtCond', 'BsmtExposure', 'BsmtFinType1', 'HeatingQC', 'CentralAir', 'KitchenQual', 'Functional', 'GarageType', 'GarageFinish', 'GarageCond', 'PavedDrive', 'SaleCondition']\n",
      "\n",
      "Lasso regularized away features:\n",
      "\n",
      "['BsmtFinSF2', 'BsmtUnfSF', '2ndFlrSF', 'LowQualFinSF', 'BsmtHalfBath', 'HalfBath', 'BedroomAbvGr', 'GarageYrBlt', 'GarageArea', 'OpenPorchSF', 'EnclosedPorch', 'PoolArea', 'MiscVal', 'MoSold', 'YrSold', 'Street', 'LotConfig', 'Condition1', 'HouseStyle', 'Exterior2nd', 'ExterCond', 'Foundation', 'BsmtFinType2', 'Heating', 'Electrical', 'GarageQual', 'SaleType']\n"
     ]
    }
   ],
   "source": [
    "#print lasso retained and regularized away features\n",
    "print('Lasso retained features:\\n')\n",
    "print(lasso_retained)\n",
    "print('\\nLasso regularized away features:\\n')\n",
    "print(lasso_regularized_away)"
   ]
  },
  {
   "cell_type": "code",
   "execution_count": null,
   "metadata": {},
   "outputs": [],
   "source": []
  },
  {
   "cell_type": "code",
   "execution_count": 75,
   "metadata": {},
   "outputs": [],
   "source": [
    "###1H"
   ]
  },
  {
   "cell_type": "code",
   "execution_count": 76,
   "metadata": {},
   "outputs": [],
   "source": [
    "#Final Submission of Ridge as top performer\n",
    "#standardize full X for training and the test data using preprocessing.StandardScaler\n",
    "X_scaled = preprocessing.StandardScaler().fit_transform(X)\n",
    "X_scaled_df = pd.DataFrame(X_scaled, columns = X.columns)\n",
    "\n",
    "X_to_test_scaled = preprocessing.StandardScaler().fit_transform(cleansed_test_df)\n",
    "X_to_test_scaled_df = pd.DataFrame(X_to_test_scaled, columns = X.columns)"
   ]
  },
  {
   "cell_type": "code",
   "execution_count": 77,
   "metadata": {},
   "outputs": [],
   "source": [
    "#create an array to store the mean MSE for each alpha tested for final ridge submission on entire training set\n",
    "ridge_final_mse_array = []\n",
    "\n",
    "for i in alphas:\n",
    "    ridge_final_scores = cross_validate(linear_model.Ridge(alpha = i, max_iter = 10000, tol = .01), \n",
    "                                  X_scaled_df, Y, cv=10,scoring=('neg_mean_squared_error'))\n",
    "    \n",
    "    ridge_final_mse_array.append(ridge_final_scores['test_score'].mean())  "
   ]
  },
  {
   "cell_type": "code",
   "execution_count": 78,
   "metadata": {},
   "outputs": [],
   "source": [
    "#find the optimal alpha\n",
    "ridge_final_mse_np = np.array(ridge_final_mse_array)\n",
    "ridge_final_optimal_a_index = np.argmax(ridge_final_mse_np)\n",
    "ridge_final_optimal_a_val = ridge_final_mse_np[ridge_final_optimal_a_index]\n",
    "optimal_final_ridge_alpha = alphas[ridge_final_optimal_a_index]"
   ]
  },
  {
   "cell_type": "code",
   "execution_count": 79,
   "metadata": {},
   "outputs": [],
   "source": [
    "#fit the model with the optimal alpha for ridge\n",
    "ridge_final = linear_model.Ridge(alpha = optimal_final_ridge_alpha, max_iter = 100000, tol = .01)\n",
    "ridge_final.fit(X_scaled_df,Y)\n",
    "Y_pred_ridge_final = ridge_final.predict(X_to_test_scaled_df)"
   ]
  },
  {
   "cell_type": "code",
   "execution_count": 81,
   "metadata": {},
   "outputs": [],
   "source": [
    "#create a dataframe for the submission output\n",
    "kaggle_upload_df = pd.DataFrame(Y_pred_ridge_final, columns = ['SalePrice'])\n",
    "kaggle_upload_df['Id'] = kaggle_upload_df.index + 1461\n",
    "kaggle_upload_df = kaggle_upload_df[['Id', 'SalePrice']]"
   ]
  },
  {
   "cell_type": "code",
   "execution_count": 82,
   "metadata": {},
   "outputs": [],
   "source": [
    "#create output csv to upload to kaggle\n",
    "kaggle_upload_df.to_csv(r'House_prices_3.csv', index = None, header=True)"
   ]
  }
 ],
 "metadata": {
  "kernelspec": {
   "display_name": "Python 3",
   "language": "python",
   "name": "python3"
  },
  "language_info": {
   "codemirror_mode": {
    "name": "ipython",
    "version": 3
   },
   "file_extension": ".py",
   "mimetype": "text/x-python",
   "name": "python",
   "nbconvert_exporter": "python",
   "pygments_lexer": "ipython3",
   "version": "3.7.3"
  }
 },
 "nbformat": 4,
 "nbformat_minor": 2
}
